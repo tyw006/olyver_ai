{
 "cells": [
  {
   "cell_type": "markdown",
   "metadata": {},
   "source": [
    "### Monitoring Model"
   ]
  },
  {
   "cell_type": "markdown",
   "metadata": {},
   "source": [
    "Real time model should already be deployed on Sagemaker."
   ]
  },
  {
   "cell_type": "markdown",
   "metadata": {},
   "source": [
    "##### Getting test data"
   ]
  },
  {
   "cell_type": "code",
   "execution_count": 1,
   "metadata": {},
   "outputs": [
    {
     "data": {
      "text/plain": [
       "'c:\\\\Users\\\\timot\\\\Documents\\\\DataScience\\\\WeCloudData\\\\Olyver_AI\\\\olyver_ai'"
      ]
     },
     "execution_count": 1,
     "metadata": {},
     "output_type": "execute_result"
    }
   ],
   "source": [
    "import os\n",
    "\n",
    "# Going to parent directory\n",
    "os.chdir('..')\n",
    "os.chdir('..')\n",
    "os.getcwd()"
   ]
  },
  {
   "cell_type": "code",
   "execution_count": 56,
   "metadata": {},
   "outputs": [
    {
     "name": "stdout",
     "output_type": "stream",
     "text": [
      "\u001b[38;21m  arize.utils.logging | INFO | Downloading pre-trained model 'facebook/detr-resnet-101'\u001b[0m\n",
      "\u001b[38;21m  arize.utils.logging | INFO | Downloading image processor\u001b[0m\n",
      "\u001b[38;21m  arize.utils.logging | INFO | Generating embedding vectors\u001b[0m\n"
     ]
    },
    {
     "name": "stderr",
     "output_type": "stream",
     "text": [
      "Map: 100%|██████████| 82/82 [00:37<00:00,  2.17 examples/s]\n"
     ]
    },
    {
     "data": {
      "text/html": [
       "<div>\n",
       "<style scoped>\n",
       "    .dataframe tbody tr th:only-of-type {\n",
       "        vertical-align: middle;\n",
       "    }\n",
       "\n",
       "    .dataframe tbody tr th {\n",
       "        vertical-align: top;\n",
       "    }\n",
       "\n",
       "    .dataframe thead th {\n",
       "        text-align: right;\n",
       "    }\n",
       "</style>\n",
       "<table border=\"1\" class=\"dataframe\">\n",
       "  <thead>\n",
       "    <tr style=\"text-align: right;\">\n",
       "      <th></th>\n",
       "      <th>filepath</th>\n",
       "      <th>image_vector</th>\n",
       "      <th>img_height</th>\n",
       "      <th>img_width</th>\n",
       "      <th>actual_category</th>\n",
       "      <th>actual_bbox</th>\n",
       "    </tr>\n",
       "  </thead>\n",
       "  <tbody>\n",
       "    <tr>\n",
       "      <th>0</th>\n",
       "      <td>Barbell-small-2\\test\\go4_mp4-257_jpg.rf.004818...</td>\n",
       "      <td>[-0.3310777246952057, 1.1678690910339355, 1.40...</td>\n",
       "      <td>640</td>\n",
       "      <td>640</td>\n",
       "      <td>[Barbell]</td>\n",
       "      <td>[[165, 337, 521, 529]]</td>\n",
       "    </tr>\n",
       "    <tr>\n",
       "      <th>1</th>\n",
       "      <td>Barbell-small-2\\test\\go8_mp4-38_jpg.rf.0149136...</td>\n",
       "      <td>[0.07991311699151993, 1.2661880254745483, 1.23...</td>\n",
       "      <td>640</td>\n",
       "      <td>640</td>\n",
       "      <td>[Barbell]</td>\n",
       "      <td>[[128, 366, 333, 495]]</td>\n",
       "    </tr>\n",
       "    <tr>\n",
       "      <th>2</th>\n",
       "      <td>Barbell-small-2\\test\\go4_mp4-168_jpg.rf.01b770...</td>\n",
       "      <td>[-0.278786838054657, 1.046907663345337, 1.5918...</td>\n",
       "      <td>640</td>\n",
       "      <td>640</td>\n",
       "      <td>[Barbell]</td>\n",
       "      <td>[[178, 393, 554, 610]]</td>\n",
       "    </tr>\n",
       "    <tr>\n",
       "      <th>3</th>\n",
       "      <td>Barbell-small-2\\test\\go2_mp4-32_jpg.rf.02b2172...</td>\n",
       "      <td>[-0.3601897656917572, 1.2231099605560303, 1.63...</td>\n",
       "      <td>640</td>\n",
       "      <td>640</td>\n",
       "      <td>[Barbell]</td>\n",
       "      <td>[[178, 382, 549, 589]]</td>\n",
       "    </tr>\n",
       "    <tr>\n",
       "      <th>4</th>\n",
       "      <td>Barbell-small-2\\test\\go2_mp4-51_jpg.rf.05caa01...</td>\n",
       "      <td>[-0.3640094995498657, 1.303786277770996, 1.448...</td>\n",
       "      <td>640</td>\n",
       "      <td>640</td>\n",
       "      <td>[Barbell]</td>\n",
       "      <td>[[196, 287, 565, 494]]</td>\n",
       "    </tr>\n",
       "  </tbody>\n",
       "</table>\n",
       "</div>"
      ],
      "text/plain": [
       "                                            filepath  \\\n",
       "0  Barbell-small-2\\test\\go4_mp4-257_jpg.rf.004818...   \n",
       "1  Barbell-small-2\\test\\go8_mp4-38_jpg.rf.0149136...   \n",
       "2  Barbell-small-2\\test\\go4_mp4-168_jpg.rf.01b770...   \n",
       "3  Barbell-small-2\\test\\go2_mp4-32_jpg.rf.02b2172...   \n",
       "4  Barbell-small-2\\test\\go2_mp4-51_jpg.rf.05caa01...   \n",
       "\n",
       "                                        image_vector  img_height  img_width  \\\n",
       "0  [-0.3310777246952057, 1.1678690910339355, 1.40...         640        640   \n",
       "1  [0.07991311699151993, 1.2661880254745483, 1.23...         640        640   \n",
       "2  [-0.278786838054657, 1.046907663345337, 1.5918...         640        640   \n",
       "3  [-0.3601897656917572, 1.2231099605560303, 1.63...         640        640   \n",
       "4  [-0.3640094995498657, 1.303786277770996, 1.448...         640        640   \n",
       "\n",
       "  actual_category             actual_bbox  \n",
       "0       [Barbell]  [[165, 337, 521, 529]]  \n",
       "1       [Barbell]  [[128, 366, 333, 495]]  \n",
       "2       [Barbell]  [[178, 393, 554, 610]]  \n",
       "3       [Barbell]  [[178, 382, 549, 589]]  \n",
       "4       [Barbell]  [[196, 287, 565, 494]]  "
      ]
     },
     "execution_count": 56,
     "metadata": {},
     "output_type": "execute_result"
    }
   ],
   "source": [
    "import pandas as pd\n",
    "import numpy as np\n",
    "from PIL import Image\n",
    "import json \n",
    "from arize.pandas.embeddings import EmbeddingGenerator, UseCases\n",
    "# Generator for creating image vectors\n",
    "generator = EmbeddingGenerator.from_use_case(\n",
    "    use_case=UseCases.CV.OBJECT_DETECTION,\n",
    "    model_name=\"facebook/detr-resnet-101\",\n",
    "    batch_size=100\n",
    ")\n",
    "def coco_to_pascal_voc(coco_format: list):\n",
    "    \"\"\" Annotations are in Coco format. Need to convert for Arize.\"\"\"\n",
    "    x1, y1, w, h = coco_format\n",
    "    return [x1,y1, x1 + w, y1 + h]\n",
    "\n",
    "directory = 'Barbell-small-2\\\\test\\\\'\n",
    "file = open(directory + '_annotations.coco.json', 'r')\n",
    "s = json.load(file)\n",
    "test_df = pd.DataFrame()\n",
    "test_df['filepath'] = [directory + info['file_name'] for info in s['images']]\n",
    "test_df['image_vector'] = generator.generate_embeddings(\n",
    "                            local_image_path_col=test_df['filepath'])\n",
    "test_df['img_height'] = [info['height'] for info in s['images']]\n",
    "test_df['img_width'] = [info['width'] for info in s['images']]\n",
    "test_df['actual_category'] = [annot['category_id'] for annot in s['annotations']]\n",
    "test_df['actual_bbox'] = [[list(coco_to_pascal_voc(annot['bbox']))] for annot in s['annotations']]\n",
    "test_df['actual_category'] = test_df.actual_category.apply(lambda x: ['Barbell'] if x == 1 else 'barbell')\n",
    "file.close()\n",
    "test_df.head()"
   ]
  },
  {
   "cell_type": "code",
   "execution_count": 57,
   "metadata": {},
   "outputs": [],
   "source": [
    "# Sending each test image to sagemaker for inference\n",
    "import boto3\n",
    "\n",
    "test_sample = test_df.sample(frac=.2, ignore_index=True)\n",
    "# Initialize new columns\n",
    "test_sample['pred_category'] = [None] * len(test_sample)\n",
    "test_sample['pred_bbox'] = [None] * len(test_sample)\n",
    "test_sample['pred_score'] = [None] * len(test_sample)\n",
    "for idx, file_path in enumerate(test_sample.filepath):\n",
    "    with open(file_path, 'rb') as jpeg:\n",
    "        jpeg_bytes = jpeg.read()\n",
    "        sagemaker_client = boto3.client('sagemaker-runtime')\n",
    "        response = sagemaker_client.invoke_endpoint(\n",
    "            EndpointName='d2-serve',\n",
    "            Body=jpeg_bytes,\n",
    "            ContentType='image/jpeg',\n",
    "            Accept=\"json\"\n",
    "        )\n",
    "        response_dict = response['Body'].read()\n",
    "        pred_dict = json.loads(response_dict)\n",
    "        # Actual bboxes contain only one detected object\n",
    "        # Keep only highest scoring object\n",
    "    idxmax = pred_dict['scores'].index(max(pred_dict['scores']))\n",
    "    test_sample.at[idx, 'pred_category'] = pred_dict['pred_classes'][idxmax]\n",
    "    test_sample.at[idx, 'pred_bbox'] = [pred_dict['pred_boxes'][idxmax]]\n",
    "    test_sample.at[idx, 'pred_score'] = [pred_dict['scores'][idxmax]]\n",
    "test_sample['pred_category'] = test_sample.pred_category.apply(lambda x: ['Barbell'] if x == 1 else 'barbell')"
   ]
  },
  {
   "cell_type": "markdown",
   "metadata": {},
   "source": [
    "## Prepare data to be sent to Arize"
   ]
  },
  {
   "cell_type": "markdown",
   "metadata": {},
   "source": [
    "### Update the timestamps."
   ]
  },
  {
   "cell_type": "code",
   "execution_count": 58,
   "metadata": {},
   "outputs": [],
   "source": [
    "from datetime import datetime \n",
    "# Set timestamp to now\n",
    "test_sample['prediction_ts'] = datetime.timestamp(datetime.now())"
   ]
  },
  {
   "cell_type": "markdown",
   "metadata": {},
   "source": [
    "### Add prediction ids"
   ]
  },
  {
   "cell_type": "code",
   "execution_count": 59,
   "metadata": {},
   "outputs": [
    {
     "data": {
      "text/html": [
       "<div>\n",
       "<style scoped>\n",
       "    .dataframe tbody tr th:only-of-type {\n",
       "        vertical-align: middle;\n",
       "    }\n",
       "\n",
       "    .dataframe tbody tr th {\n",
       "        vertical-align: top;\n",
       "    }\n",
       "\n",
       "    .dataframe thead th {\n",
       "        text-align: right;\n",
       "    }\n",
       "</style>\n",
       "<table border=\"1\" class=\"dataframe\">\n",
       "  <thead>\n",
       "    <tr style=\"text-align: right;\">\n",
       "      <th></th>\n",
       "      <th>filepath</th>\n",
       "      <th>image_vector</th>\n",
       "      <th>img_height</th>\n",
       "      <th>img_width</th>\n",
       "      <th>actual_category</th>\n",
       "      <th>actual_bbox</th>\n",
       "      <th>pred_category</th>\n",
       "      <th>pred_bbox</th>\n",
       "      <th>pred_score</th>\n",
       "      <th>prediction_ts</th>\n",
       "      <th>prediction_id</th>\n",
       "    </tr>\n",
       "  </thead>\n",
       "  <tbody>\n",
       "    <tr>\n",
       "      <th>0</th>\n",
       "      <td>Barbell-small-2\\test\\go63_mp4-11_jpg.rf.9a3542...</td>\n",
       "      <td>[0.2552233934402466, 1.3033944368362427, 0.813...</td>\n",
       "      <td>640</td>\n",
       "      <td>640</td>\n",
       "      <td>[Barbell]</td>\n",
       "      <td>[[252, 209, 313, 320]]</td>\n",
       "      <td>[Barbell]</td>\n",
       "      <td>[[252.3106689453125, 206.792236328125, 312.743...</td>\n",
       "      <td>[0.9954445362091064]</td>\n",
       "      <td>1.705722e+09</td>\n",
       "      <td>c5d4d7a7-6394-4fcf-8936-6465543acdc8</td>\n",
       "    </tr>\n",
       "    <tr>\n",
       "      <th>1</th>\n",
       "      <td>Barbell-small-2\\test\\go1_mp4-144_jpg.rf.f05c34...</td>\n",
       "      <td>[-0.052728064358234406, 1.2870899438858032, 1....</td>\n",
       "      <td>640</td>\n",
       "      <td>640</td>\n",
       "      <td>[Barbell]</td>\n",
       "      <td>[[191, 293, 368, 428]]</td>\n",
       "      <td>[Barbell]</td>\n",
       "      <td>[[188.4693603515625, 297.152099609375, 371.739...</td>\n",
       "      <td>[0.9974507689476013]</td>\n",
       "      <td>1.705722e+09</td>\n",
       "      <td>989a2efa-224e-413f-978b-a3e6184a1826</td>\n",
       "    </tr>\n",
       "    <tr>\n",
       "      <th>2</th>\n",
       "      <td>Barbell-small-2\\test\\go4_mp4-249_jpg.rf.a99c88...</td>\n",
       "      <td>[-0.30702802538871765, 1.0928428173065186, 1.5...</td>\n",
       "      <td>640</td>\n",
       "      <td>640</td>\n",
       "      <td>[Barbell]</td>\n",
       "      <td>[[178, 256, 539, 461]]</td>\n",
       "      <td>[Barbell]</td>\n",
       "      <td>[[164.2253875732422, 248.3498992919922, 536.41...</td>\n",
       "      <td>[0.9969261288642883]</td>\n",
       "      <td>1.705722e+09</td>\n",
       "      <td>4d8e4774-53ab-4679-9769-a38e055a967e</td>\n",
       "    </tr>\n",
       "    <tr>\n",
       "      <th>3</th>\n",
       "      <td>Barbell-small-2\\test\\go1_mp4-167_jpg.rf.24b197...</td>\n",
       "      <td>[-0.06599133461713791, 1.3537335395812988, 1.2...</td>\n",
       "      <td>640</td>\n",
       "      <td>640</td>\n",
       "      <td>[Barbell]</td>\n",
       "      <td>[[188, 367, 382, 503]]</td>\n",
       "      <td>[Barbell]</td>\n",
       "      <td>[[193.48289489746094, 364.2384948730469, 375.2...</td>\n",
       "      <td>[0.9930497407913208]</td>\n",
       "      <td>1.705722e+09</td>\n",
       "      <td>045bedf2-46c7-4559-ba62-c83e43c3b049</td>\n",
       "    </tr>\n",
       "    <tr>\n",
       "      <th>4</th>\n",
       "      <td>Barbell-small-2\\test\\go75_mp4-14_jpg.rf.c0a994...</td>\n",
       "      <td>[0.3812791407108307, 1.4361335039138794, 0.934...</td>\n",
       "      <td>640</td>\n",
       "      <td>640</td>\n",
       "      <td>[Barbell]</td>\n",
       "      <td>[[280, 253, 342, 366]]</td>\n",
       "      <td>[Barbell]</td>\n",
       "      <td>[[277.9753723144531, 253.63755798339844, 338.3...</td>\n",
       "      <td>[0.9932827949523926]</td>\n",
       "      <td>1.705722e+09</td>\n",
       "      <td>362bf93f-8965-43cf-83cf-603343a7654d</td>\n",
       "    </tr>\n",
       "  </tbody>\n",
       "</table>\n",
       "</div>"
      ],
      "text/plain": [
       "                                            filepath  \\\n",
       "0  Barbell-small-2\\test\\go63_mp4-11_jpg.rf.9a3542...   \n",
       "1  Barbell-small-2\\test\\go1_mp4-144_jpg.rf.f05c34...   \n",
       "2  Barbell-small-2\\test\\go4_mp4-249_jpg.rf.a99c88...   \n",
       "3  Barbell-small-2\\test\\go1_mp4-167_jpg.rf.24b197...   \n",
       "4  Barbell-small-2\\test\\go75_mp4-14_jpg.rf.c0a994...   \n",
       "\n",
       "                                        image_vector  img_height  img_width  \\\n",
       "0  [0.2552233934402466, 1.3033944368362427, 0.813...         640        640   \n",
       "1  [-0.052728064358234406, 1.2870899438858032, 1....         640        640   \n",
       "2  [-0.30702802538871765, 1.0928428173065186, 1.5...         640        640   \n",
       "3  [-0.06599133461713791, 1.3537335395812988, 1.2...         640        640   \n",
       "4  [0.3812791407108307, 1.4361335039138794, 0.934...         640        640   \n",
       "\n",
       "  actual_category             actual_bbox pred_category  \\\n",
       "0       [Barbell]  [[252, 209, 313, 320]]     [Barbell]   \n",
       "1       [Barbell]  [[191, 293, 368, 428]]     [Barbell]   \n",
       "2       [Barbell]  [[178, 256, 539, 461]]     [Barbell]   \n",
       "3       [Barbell]  [[188, 367, 382, 503]]     [Barbell]   \n",
       "4       [Barbell]  [[280, 253, 342, 366]]     [Barbell]   \n",
       "\n",
       "                                           pred_bbox            pred_score  \\\n",
       "0  [[252.3106689453125, 206.792236328125, 312.743...  [0.9954445362091064]   \n",
       "1  [[188.4693603515625, 297.152099609375, 371.739...  [0.9974507689476013]   \n",
       "2  [[164.2253875732422, 248.3498992919922, 536.41...  [0.9969261288642883]   \n",
       "3  [[193.48289489746094, 364.2384948730469, 375.2...  [0.9930497407913208]   \n",
       "4  [[277.9753723144531, 253.63755798339844, 338.3...  [0.9932827949523926]   \n",
       "\n",
       "   prediction_ts                         prediction_id  \n",
       "0   1.705722e+09  c5d4d7a7-6394-4fcf-8936-6465543acdc8  \n",
       "1   1.705722e+09  989a2efa-224e-413f-978b-a3e6184a1826  \n",
       "2   1.705722e+09  4d8e4774-53ab-4679-9769-a38e055a967e  \n",
       "3   1.705722e+09  045bedf2-46c7-4559-ba62-c83e43c3b049  \n",
       "4   1.705722e+09  362bf93f-8965-43cf-83cf-603343a7654d  "
      ]
     },
     "execution_count": 59,
     "metadata": {},
     "output_type": "execute_result"
    }
   ],
   "source": [
    "import uuid \n",
    "\n",
    "def add_prediction_id(df):\n",
    "    return [str(uuid.uuid4()) for _ in range(df.shape[0])]\n",
    "\n",
    "test_sample['prediction_id'] = add_prediction_id(test_sample)\n",
    "test_sample.head()"
   ]
  },
  {
   "cell_type": "markdown",
   "metadata": {},
   "source": [
    "### Send data to Arize"
   ]
  },
  {
   "cell_type": "code",
   "execution_count": 60,
   "metadata": {},
   "outputs": [
    {
     "name": "stdout",
     "output_type": "stream",
     "text": [
      "✅ Import and Setup Arize Client Done! Now we can start using Arize!\n"
     ]
    }
   ],
   "source": [
    "from arize.pandas.logger import Client\n",
    "from arize.utils.types import (\n",
    "    Schema, \n",
    "    Environments, \n",
    "    ModelTypes,\n",
    "    EmbeddingColumnNames,\n",
    "    ObjectDetectionColumnNames\n",
    ")\n",
    "\n",
    "SPACE_KEY = \"b7bee33\"\n",
    "API_KEY = \"d710f787158280c98cf\"\n",
    "arize_client = Client(space_key=SPACE_KEY, api_key=API_KEY)\n",
    "model_id = \"detectron2-barbell-detection\"\n",
    "model_version = \"1.0\"\n",
    "model_type = ModelTypes.OBJECT_DETECTION\n",
    "if SPACE_KEY == \"SPACE_KEY\" or API_KEY == \"API_KEY\":\n",
    "    raise ValueError(\"❌ NEED TO CHANGE SPACE AND/OR API_KEY\")\n",
    "else:\n",
    "    print(\"✅ Import and Setup Arize Client Done! Now we can start using Arize!\")"
   ]
  },
  {
   "cell_type": "code",
   "execution_count": 61,
   "metadata": {},
   "outputs": [],
   "source": [
    "# tags=[\n",
    "#   \"drift_type\"\n",
    "# ]\n",
    "embedding_feature_column_names={\n",
    "    \"image_embedding\": EmbeddingColumnNames(\n",
    "        vector_column_name=\"image_vector\"\n",
    "    )\n",
    "}\n",
    "object_detection_prediction_column_names=ObjectDetectionColumnNames(\n",
    "    bounding_boxes_coordinates_column_name=\"pred_bbox\",\n",
    "    categories_column_name=\"pred_category\",\n",
    "    scores_column_name=\"pred_score\"\n",
    ")\n",
    "object_detection_actual_column_names=ObjectDetectionColumnNames(\n",
    "    bounding_boxes_coordinates_column_name=\"actual_bbox\",\n",
    "    categories_column_name=\"actual_category\",\n",
    ")\n",
    "\n",
    "# Define a Schema() object for Arize to pick up data from the correct columns for logging\n",
    "schema = Schema(\n",
    "    prediction_id_column_name=\"prediction_id\",\n",
    "    timestamp_column_name=\"prediction_ts\",\n",
    "    #tag_column_names=tags,\n",
    "    embedding_feature_column_names=embedding_feature_column_names,\n",
    "    object_detection_prediction_column_names=object_detection_prediction_column_names,\n",
    "    object_detection_actual_column_names=object_detection_actual_column_names,\n",
    ")"
   ]
  },
  {
   "cell_type": "code",
   "execution_count": 62,
   "metadata": {},
   "outputs": [
    {
     "name": "stdout",
     "output_type": "stream",
     "text": [
      "\u001b[38;21m  arize.utils.logging | INFO | Success! Check out your data at https://app.arize.com/organizations/QWNjb3VudE9yZ2FuaXphdGlvbjo1NzA1/spaces/U3BhY2U6NjAxNg==/models/modelName/detectron2-barbell-detection?selectedTab=dataIngestion\u001b[0m\n",
      "✅ You have successfully logged training set to Arize\n"
     ]
    }
   ],
   "source": [
    "# Logging Production DataFrame\n",
    "response = arize_client.log(\n",
    "    dataframe=test_sample,\n",
    "    schema=schema,\n",
    "    model_id=model_id,\n",
    "    model_version=model_version,\n",
    "    model_type=model_type,\n",
    "    environment=Environments.PRODUCTION,\n",
    ")\n",
    "\n",
    "# If successful, the server will return a status_code of 200\n",
    "if response.status_code != 200:\n",
    "    print(f\"❌ logging failed with response code {response.status_code}, {response.text}\")\n",
    "else:\n",
    "    print(f\"✅ You have successfully logged training set to Arize\")"
   ]
  }
 ],
 "metadata": {
  "kernelspec": {
   "display_name": "base",
   "language": "python",
   "name": "python3"
  },
  "language_info": {
   "codemirror_mode": {
    "name": "ipython",
    "version": 3
   },
   "file_extension": ".py",
   "mimetype": "text/x-python",
   "name": "python",
   "nbconvert_exporter": "python",
   "pygments_lexer": "ipython3",
   "version": "3.8.16"
  }
 },
 "nbformat": 4,
 "nbformat_minor": 2
}
