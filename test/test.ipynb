{
 "cells": [
  {
   "cell_type": "code",
   "execution_count": 1,
   "metadata": {},
   "outputs": [
    {
     "name": "stdout",
     "output_type": "stream",
     "text": [
      "PyTorch version: 2.0.1\n",
      "Is CUDA enabled? True\n",
      "**********\n",
      "**********\n",
      "CUDNN version: 8700\n",
      "Available GPU devices: 1\n",
      "Device Name: NVIDIA GeForce RTX 4080\n"
     ]
    }
   ],
   "source": [
    "import torch\n",
    "print(f'PyTorch version: {torch.__version__}')\n",
    "print(\"Is CUDA enabled?\",torch.cuda.is_available())\n",
    "print('*'*10)\n",
    "#!nvcc --version\n",
    "print('*'*10)\n",
    "print(f'CUDNN version: {torch.backends.cudnn.version()}')\n",
    "print(f'Available GPU devices: {torch.cuda.device_count()}')\n",
    "print(f'Device Name: {torch.cuda.get_device_name()}')"
   ]
  },
  {
   "cell_type": "code",
   "execution_count": 2,
   "metadata": {},
   "outputs": [],
   "source": [
    "from detectron2.engine import DefaultPredictor\n",
    "#import detectron2\n",
    "from detectron2.utils.logger import setup_logger\n",
    "setup_logger()\n",
    "from detectron2.utils.video_visualizer import VideoVisualizer\n",
    "from detectron2.config import get_cfg\n",
    "from detectron2.data import MetadataCatalog, DatasetCatalog, build_detection_test_loader\n",
    "from detectron2.utils.visualizer import ColorMode, Visualizer\n",
    "from detectron2.structures import Boxes\n",
    "from detectron2 import model_zoo\n",
    "# from PIL import Image \n",
    "# import PIL \n",
    "import cv2\n",
    "import numpy as np\n",
    "import tqdm\n",
    "import random\n",
    "import matplotlib.pyplot as plt\n",
    "import os\n",
    "import math"
   ]
  },
  {
   "cell_type": "code",
   "execution_count": 9,
   "metadata": {},
   "outputs": [
    {
     "ename": "AssertionError",
     "evalue": "Dataset 'barbell_train' is already registered!",
     "output_type": "error",
     "traceback": [
      "\u001b[1;31m---------------------------------------------------------------------------\u001b[0m",
      "\u001b[1;31mAssertionError\u001b[0m                            Traceback (most recent call last)",
      "Cell \u001b[1;32mIn[9], line 9\u001b[0m\n\u001b[0;32m      2\u001b[0m \u001b[38;5;28;01mfrom\u001b[39;00m \u001b[38;5;21;01mdetectron2\u001b[39;00m\u001b[38;5;21;01m.\u001b[39;00m\u001b[38;5;21;01mdata\u001b[39;00m\u001b[38;5;21;01m.\u001b[39;00m\u001b[38;5;21;01mdatasets\u001b[39;00m \u001b[38;5;28;01mimport\u001b[39;00m register_coco_instances\n\u001b[0;32m      3\u001b[0m \u001b[38;5;66;03m# Removing registered dataset in case a mistake is made\u001b[39;00m\n\u001b[0;32m      4\u001b[0m \u001b[38;5;66;03m# DatasetCatalog.remove('barbell_train')\u001b[39;00m\n\u001b[0;32m      5\u001b[0m \u001b[38;5;66;03m# DatasetCatalog.remove('barbell_val')\u001b[39;00m\n\u001b[0;32m      6\u001b[0m \u001b[38;5;66;03m# DatasetCatalog.remove('barbell_test')\u001b[39;00m\n\u001b[0;32m      7\u001b[0m \u001b[38;5;66;03m# format is register_coco_instances(\"YourTrainDatasetName\", {},\"path to train.json\", \"path to train image folder\")\u001b[39;00m\n\u001b[0;32m      8\u001b[0m \u001b[38;5;66;03m# for train, valid, and test\u001b[39;00m\n\u001b[1;32m----> 9\u001b[0m \u001b[43mregister_coco_instances\u001b[49m\u001b[43m(\u001b[49m\u001b[38;5;124;43m\"\u001b[39;49m\u001b[38;5;124;43mbarbell_train\u001b[39;49m\u001b[38;5;124;43m\"\u001b[39;49m\u001b[43m,\u001b[49m\u001b[43m{\u001b[49m\u001b[43m}\u001b[49m\u001b[43m,\u001b[49m\u001b[38;5;124;43m'\u001b[39;49m\u001b[38;5;124;43mBarbell-small-2/train/_annotations.coco.json\u001b[39;49m\u001b[38;5;124;43m'\u001b[39;49m\u001b[43m,\u001b[49m\u001b[43m \u001b[49m\u001b[38;5;124;43m'\u001b[39;49m\u001b[38;5;124;43mBarbell-small-2/train\u001b[39;49m\u001b[38;5;124;43m'\u001b[39;49m\u001b[43m \u001b[49m\u001b[43m)\u001b[49m\n\u001b[0;32m     10\u001b[0m register_coco_instances(\u001b[38;5;124m\"\u001b[39m\u001b[38;5;124mbarbell_val\u001b[39m\u001b[38;5;124m\"\u001b[39m,{},\u001b[38;5;124m'\u001b[39m\u001b[38;5;124mBarbell-small-2/valid/_annotations.coco.json\u001b[39m\u001b[38;5;124m'\u001b[39m, \u001b[38;5;124m'\u001b[39m\u001b[38;5;124mBarbell-small-2/valid\u001b[39m\u001b[38;5;124m'\u001b[39m )\n\u001b[0;32m     11\u001b[0m register_coco_instances(\u001b[38;5;124m\"\u001b[39m\u001b[38;5;124mbarbell_test\u001b[39m\u001b[38;5;124m\"\u001b[39m,{},\u001b[38;5;124m'\u001b[39m\u001b[38;5;124mBarbell-small-2/test/_annotations.coco.json\u001b[39m\u001b[38;5;124m'\u001b[39m, \u001b[38;5;124m'\u001b[39m\u001b[38;5;124mBarbell-small-2/test\u001b[39m\u001b[38;5;124m'\u001b[39m )\n",
      "File \u001b[1;32mc:\\Users\\timot\\anaconda3\\envs\\detectron_env\\lib\\site-packages\\detectron2\\data\\datasets\\coco.py:500\u001b[0m, in \u001b[0;36mregister_coco_instances\u001b[1;34m(name, metadata, json_file, image_root)\u001b[0m\n\u001b[0;32m    498\u001b[0m \u001b[38;5;28;01massert\u001b[39;00m \u001b[38;5;28misinstance\u001b[39m(image_root, (\u001b[38;5;28mstr\u001b[39m, os\u001b[38;5;241m.\u001b[39mPathLike)), image_root\n\u001b[0;32m    499\u001b[0m \u001b[38;5;66;03m# 1. register a function which returns dicts\u001b[39;00m\n\u001b[1;32m--> 500\u001b[0m \u001b[43mDatasetCatalog\u001b[49m\u001b[38;5;241;43m.\u001b[39;49m\u001b[43mregister\u001b[49m\u001b[43m(\u001b[49m\u001b[43mname\u001b[49m\u001b[43m,\u001b[49m\u001b[43m \u001b[49m\u001b[38;5;28;43;01mlambda\u001b[39;49;00m\u001b[43m:\u001b[49m\u001b[43m \u001b[49m\u001b[43mload_coco_json\u001b[49m\u001b[43m(\u001b[49m\u001b[43mjson_file\u001b[49m\u001b[43m,\u001b[49m\u001b[43m \u001b[49m\u001b[43mimage_root\u001b[49m\u001b[43m,\u001b[49m\u001b[43m \u001b[49m\u001b[43mname\u001b[49m\u001b[43m)\u001b[49m\u001b[43m)\u001b[49m\n\u001b[0;32m    502\u001b[0m \u001b[38;5;66;03m# 2. Optionally, add metadata about this dataset,\u001b[39;00m\n\u001b[0;32m    503\u001b[0m \u001b[38;5;66;03m# since they might be useful in evaluation, visualization or logging\u001b[39;00m\n\u001b[0;32m    504\u001b[0m MetadataCatalog\u001b[38;5;241m.\u001b[39mget(name)\u001b[38;5;241m.\u001b[39mset(\n\u001b[0;32m    505\u001b[0m     json_file\u001b[38;5;241m=\u001b[39mjson_file, image_root\u001b[38;5;241m=\u001b[39mimage_root, evaluator_type\u001b[38;5;241m=\u001b[39m\u001b[38;5;124m\"\u001b[39m\u001b[38;5;124mcoco\u001b[39m\u001b[38;5;124m\"\u001b[39m, \u001b[38;5;241m*\u001b[39m\u001b[38;5;241m*\u001b[39mmetadata\n\u001b[0;32m    506\u001b[0m )\n",
      "File \u001b[1;32mc:\\Users\\timot\\anaconda3\\envs\\detectron_env\\lib\\site-packages\\detectron2\\data\\catalog.py:37\u001b[0m, in \u001b[0;36m_DatasetCatalog.register\u001b[1;34m(self, name, func)\u001b[0m\n\u001b[0;32m     30\u001b[0m \u001b[38;5;250m\u001b[39m\u001b[38;5;124;03m\"\"\"\u001b[39;00m\n\u001b[0;32m     31\u001b[0m \u001b[38;5;124;03mArgs:\u001b[39;00m\n\u001b[0;32m     32\u001b[0m \u001b[38;5;124;03m    name (str): the name that identifies a dataset, e.g. \"coco_2014_train\".\u001b[39;00m\n\u001b[0;32m     33\u001b[0m \u001b[38;5;124;03m    func (callable): a callable which takes no arguments and returns a list of dicts.\u001b[39;00m\n\u001b[0;32m     34\u001b[0m \u001b[38;5;124;03m        It must return the same results if called multiple times.\u001b[39;00m\n\u001b[0;32m     35\u001b[0m \u001b[38;5;124;03m\"\"\"\u001b[39;00m\n\u001b[0;32m     36\u001b[0m \u001b[38;5;28;01massert\u001b[39;00m \u001b[38;5;28mcallable\u001b[39m(func), \u001b[38;5;124m\"\u001b[39m\u001b[38;5;124mYou must register a function with `DatasetCatalog.register`!\u001b[39m\u001b[38;5;124m\"\u001b[39m\n\u001b[1;32m---> 37\u001b[0m \u001b[38;5;28;01massert\u001b[39;00m name \u001b[38;5;129;01mnot\u001b[39;00m \u001b[38;5;129;01min\u001b[39;00m \u001b[38;5;28mself\u001b[39m, \u001b[38;5;124m\"\u001b[39m\u001b[38;5;124mDataset \u001b[39m\u001b[38;5;124m'\u001b[39m\u001b[38;5;132;01m{}\u001b[39;00m\u001b[38;5;124m'\u001b[39m\u001b[38;5;124m is already registered!\u001b[39m\u001b[38;5;124m\"\u001b[39m\u001b[38;5;241m.\u001b[39mformat(name)\n\u001b[0;32m     38\u001b[0m \u001b[38;5;28mself\u001b[39m[name] \u001b[38;5;241m=\u001b[39m func\n",
      "\u001b[1;31mAssertionError\u001b[0m: Dataset 'barbell_train' is already registered!"
     ]
    }
   ],
   "source": [
    "# need to register custom data so it can be used for training\n",
    "from detectron2.data.datasets import register_coco_instances\n",
    "# Removing registered dataset in case a mistake is made\n",
    "# DatasetCatalog.remove('barbell_train')\n",
    "# DatasetCatalog.remove('barbell_val')\n",
    "# DatasetCatalog.remove('barbell_test')\n",
    "# format is register_coco_instances(\"YourTrainDatasetName\", {},\"path to train.json\", \"path to train image folder\")\n",
    "# for train, valid, and test\n",
    "register_coco_instances(\"barbell_train\",{},'Barbell-small-2/train/_annotations.coco.json', 'Barbell-small-2/train' )\n",
    "register_coco_instances(\"barbell_val\",{},'Barbell-small-2/valid/_annotations.coco.json', 'Barbell-small-2/valid' )\n",
    "register_coco_instances(\"barbell_test\",{},'Barbell-small-2/test/_annotations.coco.json', 'Barbell-small-2/test' )"
   ]
  },
  {
   "cell_type": "code",
   "execution_count": 19,
   "metadata": {},
   "outputs": [],
   "source": [
    "barbell_train_metadata = MetadataCatalog.get(\"barbell_train\")\n",
    "\n",
    "videoPath = 'test_video_lidayin.mp4'\n",
    "video = cv2.VideoCapture(videoPath)\n",
    "video.set(cv2.CAP_PROP_POS_FRAMES,512) \n",
    "ret, frame = video.read()\n",
    "visualizer = Visualizer(frame[:, :, ::-1], metadata=barbell_train_metadata, scale=0.5)\n",
    "cv2.imshow('barbell',frame)\n",
    "cv2.waitKey(0)\n",
    "cv2.destroyAllWindows()"
   ]
  },
  {
   "cell_type": "code",
   "execution_count": 37,
   "metadata": {},
   "outputs": [
    {
     "name": "stdout",
     "output_type": "stream",
     "text": [
      "\u001b[32m[12/15 17:40:14 d2.checkpoint.detection_checkpoint]: \u001b[0m[DetectionCheckpointer] Loading from output/model_final.pth ...\n"
     ]
    }
   ],
   "source": [
    "cfg_obj = get_cfg() # obtain detectron2's default config\n",
    "cfg_obj.merge_from_file(model_zoo.get_config_file(\"COCO-Detection/faster_rcnn_X_101_32x8d_FPN_3x.yaml\")) # load values from a file specified under Detectron2's official configs/ directory\n",
    "cfg_obj.MODEL.WEIGHTS ='output/model_final.pth'\n",
    "cfg_obj.DATASETS.TEST = (\"barbell_test\", )\n",
    "cfg_obj.MODEL.ROI_HEADS.SCORE_THRESH_TEST = 0.7   # set the testing threshold for this model\n",
    "cfg_obj.MODEL.ROI_HEADS.NUM_CLASSES = 2 # adjust for number of classes\n",
    "\n",
    "pred_obj = DefaultPredictor(cfg_obj)\n",
    "barbell_metadata = MetadataCatalog.get(\"barbell_test\")"
   ]
  },
  {
   "cell_type": "code",
   "execution_count": null,
   "metadata": {},
   "outputs": [],
   "source": [
    "cfg_key = get_cfg() # obtain detectron2's default config\n",
    "# may need to download config file locally for greater speed\n",
    "cfg_key.merge_from_file(model_zoo.get_config_file(\"COCO-Keypoints/keypoint_rcnn_R_50_FPN_3x.yaml\")) # load values from a file specified under Detectron2's official configs/ directory\n",
    "cfg_key.MODEL.WEIGHTS = model_zoo.get_checkpoint_url(\"COCO-Keypoints/keypoint_rcnn_R_50_FPN_3x.yaml\") # returns the URL to the model trained using the given config\n",
    "cfg_key.MODEL.ROI_HEADS.SCORE_THRESH_TEST = 0.7 # threshold to filter out low-scored bounding boxes\n",
    "cfg_key.MODEL.DEVICE = 'cuda'  # cpu or cuda\n",
    "# getting metadata for keypoint detection and deleting thing_classes to set to custom\n",
    "metadata = MetadataCatalog.get(cfg_key.DATASETS.TRAIN[0]); del metadata.thing_classes\n",
    "# keypoint detection person is 0 and weights are 1, so setting custom labels to lifter and weights\n",
    "metadata.thing_classes = ['lifter','weights']\n",
    "pred_keypt = DefaultPredictor(cfg_key)"
   ]
  },
  {
   "cell_type": "code",
   "execution_count": 40,
   "metadata": {},
   "outputs": [
    {
     "data": {
      "text/plain": [
       "{'instances': Instances(num_instances=4, image_height=360, image_width=640, fields=[pred_boxes: Boxes(tensor([[387.0726, 265.5885, 477.3191, 357.8558],\n",
       "         [111.5254, 287.8434, 164.7855, 345.9864],\n",
       "         [157.9690, 287.8644, 199.4764, 344.9593],\n",
       "         [240.3044, 270.2670, 324.1308, 350.8048]], device='cuda:0')), scores: tensor([0.9963, 0.9875, 0.9837, 0.9791], device='cuda:0'), pred_classes: tensor([1, 1, 1, 1], device='cuda:0')])}"
      ]
     },
     "execution_count": 40,
     "metadata": {},
     "output_type": "execute_result"
    }
   ],
   "source": [
    "outputs = pred_obj(frame)\n",
    "v = Visualizer(frame[:, :, ::-1], metadata, scale=1.2)\n",
    "out = v.draw_instance_predictions(outputs['instances'].to(\"cpu\"))\n",
    "outputs"
   ]
  },
  {
   "cell_type": "code",
   "execution_count": 41,
   "metadata": {},
   "outputs": [],
   "source": [
    "cv2.imshow('test', out.get_image()[:, :, ::-1])\n",
    "cv2.waitKey(0)\n",
    "cv2.destroyAllWindows()"
   ]
  },
  {
   "cell_type": "code",
   "execution_count": null,
   "metadata": {},
   "outputs": [],
   "source": []
  }
 ],
 "metadata": {
  "kernelspec": {
   "display_name": "base",
   "language": "python",
   "name": "python3"
  },
  "language_info": {
   "codemirror_mode": {
    "name": "ipython",
    "version": 3
   },
   "file_extension": ".py",
   "mimetype": "text/x-python",
   "name": "python",
   "nbconvert_exporter": "python",
   "pygments_lexer": "ipython3",
   "version": "3.8.16"
  }
 },
 "nbformat": 4,
 "nbformat_minor": 2
}
